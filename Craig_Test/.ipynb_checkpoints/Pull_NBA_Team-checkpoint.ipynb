{
 "cells": [
  {
   "cell_type": "code",
   "execution_count": 1,
   "metadata": {},
   "outputs": [],
   "source": [
    "# Dependencies and Setup\n",
    "import json\n",
    "import pandas as pd\n",
    "import requests"
   ]
  },
  {
   "cell_type": "code",
   "execution_count": 2,
   "metadata": {},
   "outputs": [],
   "source": [
    "#Bring in CSV into pandas dataframe\n",
    "NBA_cityObject=\"NBAcities.csv\"\n",
    "NBA_cities_df=pd.read_csv(NBA_cityObject)"
   ]
  },
  {
   "cell_type": "code",
   "execution_count": 3,
   "metadata": {},
   "outputs": [],
   "source": [
    "#Bring in data from internet\n",
    "city_response=requests.get(\"http://data.nba.net/prod/v2/2018/teams.json\")\n",
    "city_response=city_response.json()"
   ]
  },
  {
   "cell_type": "code",
   "execution_count": 17,
   "metadata": {},
   "outputs": [],
   "source": [
    "#Bring in elements for NBA_Team Table\n",
    "city_response_list=city_response[\"league\"][\"standard\"][3]\n",
    "teamID=city_response_list[\"teamId\"]\n",
    "city=city_response_list[\"city\"]\n",
    "fullName=city_response_list[\"fullName\"]\n",
    "confName=city_response_list[\"confName\"]\n",
    "divName=city_response_list[\"divName\"]"
   ]
  },
  {
   "cell_type": "code",
   "execution_count": 20,
   "metadata": {},
   "outputs": [],
   "source": [
    "# Create an object list to store NBA Team Data as an object\n",
    "NBA_Team=[]\n",
    "NBA_Team.append({\"TeamID\":teamID,\n",
    "                 \"City\":city,\n",
    "                 \"FullName\":fullName,\n",
    "                 \"ConferenceName\": confName,\n",
    "                 \"DivisionName\":divName})"
   ]
  },
  {
   "cell_type": "code",
   "execution_count": 21,
   "metadata": {},
   "outputs": [
    {
     "data": {
      "text/plain": [
       "[{'TeamID': '1610612737',\n",
       "  'City': 'Atlanta',\n",
       "  'FullName': 'Atlanta Hawks',\n",
       "  'ConferenceName': 'East',\n",
       "  'DivisionName': 'Southeast'}]"
      ]
     },
     "execution_count": 21,
     "metadata": {},
     "output_type": "execute_result"
    }
   ],
   "source": [
    "#test Object List\n",
    "NBA_Team"
   ]
  },
  {
   "cell_type": "code",
   "execution_count": 19,
   "metadata": {},
   "outputs": [],
   "source": [
    "# for cities in NBA_cities_df:\n",
    "#     if (cities == city_response[\"league\"][\"standard\"][\"city\"]):\n",
    "\n",
    "#         print(city_response[\"league\"][\"standard\"][\"city\"])"
   ]
  }
 ],
 "metadata": {
  "kernelspec": {
   "display_name": "Python 3",
   "language": "python",
   "name": "python3"
  },
  "language_info": {
   "codemirror_mode": {
    "name": "ipython",
    "version": 3
   },
   "file_extension": ".py",
   "mimetype": "text/x-python",
   "name": "python",
   "nbconvert_exporter": "python",
   "pygments_lexer": "ipython3",
   "version": "3.6.5"
  }
 },
 "nbformat": 4,
 "nbformat_minor": 2
}
