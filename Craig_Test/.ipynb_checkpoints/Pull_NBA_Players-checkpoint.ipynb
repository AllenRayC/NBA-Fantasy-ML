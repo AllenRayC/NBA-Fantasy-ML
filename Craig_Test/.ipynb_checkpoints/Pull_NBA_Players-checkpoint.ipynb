{
 "cells": [
  {
   "cell_type": "code",
   "execution_count": 1,
   "metadata": {},
   "outputs": [],
   "source": [
    "# Dependencies and Setup\n",
    "import json\n",
    "import pandas as pd\n",
    "import requests"
   ]
  },
  {
   "cell_type": "code",
   "execution_count": 2,
   "metadata": {},
   "outputs": [],
   "source": [
    "#Bring in CSV into pandas Dataframe\n",
    "NBA_playersObject=\"NBAplayers.csv\"\n",
    "NBA_players_df=pd.read_csv(NBA_playersObject)"
   ]
  },
  {
   "cell_type": "code",
   "execution_count": 3,
   "metadata": {},
   "outputs": [],
   "source": [
    "#Bring in data from internet\n",
    "player_response=requests.get(\"http://data.nba.net/prod/v1/2018/players.json\")\n",
    "player_response=player_response.json()"
   ]
  },
  {
   "cell_type": "code",
   "execution_count": 4,
   "metadata": {},
   "outputs": [],
   "source": [
    "#Bring in elements for NBA_Player Table\n",
    "player_response_list=player_response[\"league\"][\"standard\"][2]\n",
    "\n",
    "firstName=player_response_list[\"firstName\"]\n",
    "lastName=player_response_list[\"lastName\"]\n",
    "personId=player_response_list[\"personId\"]\n",
    "teamId=player_response_list[\"teamId\"]\n",
    "heightFeet=player_response_list[\"heightFeet\"]\n",
    "heightInches=player_response_list[\"heightInches\"]\n",
    "weightPounds=player_response_list[\"weightPounds\"]\n",
    "dateOfBirthUTC=player_response_list[\"dateOfBirthUTC\"]\n",
    "collegeName=player_response_list[\"collegeName\"]"
   ]
  },
  {
   "cell_type": "code",
   "execution_count": 5,
   "metadata": {},
   "outputs": [],
   "source": [
    "# Create an object list to store NBA Player data as an object\n",
    "NBA_Players=[]\n",
    "NBA_Players.append({\"FirstName\":firstName,\n",
    "                   \"LastName\":lastName,\n",
    "                   \"PersonID\":personId,\n",
    "                   \"TeamID\":teamId,\n",
    "                   \"HeightFeet\":heightFeet,\n",
    "                   \"HeightInches\":heightInches,\n",
    "                   \"WeightPounds\":weightPounds,\n",
    "                   \"DateOfBirthUTC\":dateOfBirthUTC,\n",
    "                   \"CollegeName\":collegeName})"
   ]
  },
  {
   "cell_type": "code",
   "execution_count": 6,
   "metadata": {},
   "outputs": [
    {
     "data": {
      "text/plain": [
       "[{'FirstName': 'Jaylen',\n",
       "  'LastName': 'Adams',\n",
       "  'PersonID': '1629121',\n",
       "  'TeamID': '1610612737',\n",
       "  'HeightFeet': '6',\n",
       "  'HeightInches': '2',\n",
       "  'WeightPounds': '190',\n",
       "  'DateOfBirthUTC': '1996-05-04',\n",
       "  'CollegeName': 'St. Bonaventure'}]"
      ]
     },
     "execution_count": 6,
     "metadata": {},
     "output_type": "execute_result"
    }
   ],
   "source": [
    "#Test Object list\n",
    "NBA_Players"
   ]
  }
 ],
 "metadata": {
  "kernelspec": {
   "display_name": "Python 3",
   "language": "python",
   "name": "python3"
  },
  "language_info": {
   "codemirror_mode": {
    "name": "ipython",
    "version": 3
   },
   "file_extension": ".py",
   "mimetype": "text/x-python",
   "name": "python",
   "nbconvert_exporter": "python",
   "pygments_lexer": "ipython3",
   "version": "3.6.5"
  }
 },
 "nbformat": 4,
 "nbformat_minor": 2
}
