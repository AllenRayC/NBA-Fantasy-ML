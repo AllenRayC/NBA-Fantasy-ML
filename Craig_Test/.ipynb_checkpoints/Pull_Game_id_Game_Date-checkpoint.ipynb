{
 "cells": [
  {
   "cell_type": "code",
   "execution_count": 1,
   "metadata": {},
   "outputs": [],
   "source": [
    "# Dependencies and Setup\n",
    "import json\n",
    "import pandas as pd\n",
    "import requests"
   ]
  },
  {
   "cell_type": "code",
   "execution_count": 2,
   "metadata": {},
   "outputs": [],
   "source": [
    "#Holding place potential csv file\n",
    "#Bring in CSV into pandas dataframe\n",
    "NBA_cityObject=\"NBAcities.csv\"\n",
    "NBA_cities_df=pd.read_csv(NBA_cityObject)"
   ]
  },
  {
   "cell_type": "code",
   "execution_count": 3,
   "metadata": {},
   "outputs": [],
   "source": [
    "#Bring in data from internet as object then convert ot Json\n",
    "schedule_response_obj=requests.get(\"http://data.nba.net/prod/v1/2018/schedule.json\")\n",
    "schedule_response=schedule_response_obj.json()"
   ]
  },
  {
   "cell_type": "code",
   "execution_count": 4,
   "metadata": {},
   "outputs": [
    {
     "data": {
      "text/plain": [
       "1309"
      ]
     },
     "execution_count": 4,
     "metadata": {},
     "output_type": "execute_result"
    }
   ],
   "source": [
    "# Count # of Games\n",
    "schedule_response_count=schedule_response[\"league\"][\"standard\"]\n",
    "schedule_count=len(schedule_response_count)\n",
    "schedule_count"
   ]
  },
  {
   "cell_type": "code",
   "execution_count": 29,
   "metadata": {},
   "outputs": [
    {
     "data": {
      "text/plain": [
       "{'broadcasters': []}"
      ]
     },
     "execution_count": 29,
     "metadata": {},
     "output_type": "execute_result"
    }
   ],
   "source": [
    "# If statement to exclude if tags = \"pre-season\"\n",
    "# tags=schedule_response_list[\"tags\"]\n",
    "\n",
    "#Bring in elements for NBA Schedule\n",
    "schedule_response_list=schedule_response[\"league\"][\"standard\"][150]\n",
    "gameID=schedule_response_list[\"gameId\"]\n",
    "startDateEastern=schedule_response_list[\"startDateEastern\"]\n",
    "hTeam=schedule_response_list[\"hTeam\"][\"teamId\"]\n",
    "vTeam=schedule_response_list[\"vTeam\"][\"teamId\"]\n",
    "national_broadcast=schedule_response_list[\"watch\"][\"broadcast\"][\"video\"][\"national\"][\"broadcasters\"]\n",
    "\n",
    "# Create an Object list to store NBA Game Information\n",
    "NBA_Schedule=[]\n",
    "NBA_Schedule.append()"
   ]
  },
  {
   "cell_type": "code",
   "execution_count": null,
   "metadata": {},
   "outputs": [],
   "source": [
    "# for cities in NBA_cities_df:\n",
    "#     if (cities == city_response[\"league\"][\"standard\"][\"city\"]):\n",
    "\n",
    "#         print(city_response[\"league\"][\"standard\"][\"city\"])"
   ]
  }
 ],
 "metadata": {
  "kernelspec": {
   "display_name": "Python 3",
   "language": "python",
   "name": "python3"
  },
  "language_info": {
   "codemirror_mode": {
    "name": "ipython",
    "version": 3
   },
   "file_extension": ".py",
   "mimetype": "text/x-python",
   "name": "python",
   "nbconvert_exporter": "python",
   "pygments_lexer": "ipython3",
   "version": "3.6.5"
  }
 },
 "nbformat": 4,
 "nbformat_minor": 2
}
