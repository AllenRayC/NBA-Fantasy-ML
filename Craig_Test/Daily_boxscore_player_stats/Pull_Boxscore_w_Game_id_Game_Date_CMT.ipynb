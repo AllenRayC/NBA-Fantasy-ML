{
 "cells": [
  {
   "cell_type": "code",
   "execution_count": 1,
   "metadata": {
    "tags": [
     "Done"
    ]
   },
   "outputs": [],
   "source": [
    "# Dependencies and Setup\n",
    "\n",
    "import json\n",
    "import pandas as pd\n",
    "import requests\n",
    "import numpy as py\n",
    "from sqlalchemy.ext.declarative import declarative_base\n",
    "Base = declarative_base()\n",
    "from sqlalchemy import Column, Integer, String, Float, Date\n",
    "import pymysql\n",
    "pymysql.install_as_MySQLdb()\n",
    "from sqlalchemy import create_engine, inspect, func, distinct\n",
    "from sqlalchemy.ext.automap import automap_base\n",
    "from sqlalchemy.orm import Session\n",
    "import sqlite3\n",
    "from sqlite3 import Error"
   ]
  },
  {
   "cell_type": "code",
   "execution_count": 2,
   "metadata": {
    "tags": [
     "change_path_when_done"
    ]
   },
   "outputs": [],
   "source": [
    "# Create engine and engine connection to SQLite Database\n",
    "\n",
    "engine = create_engine(\"sqlite:///../SqLIte_files/NBAfantasyML.sqlite\")\n",
    "conn = engine.connect()"
   ]
  },
  {
   "cell_type": "code",
   "execution_count": 3,
   "metadata": {
    "tags": [
     "done"
    ]
   },
   "outputs": [],
   "source": [
    "# Create function to try and connect to a sqlite database.  if it doesn't work, create one...\n",
    "\n",
    "def create_connection(db_file):\n",
    "    try:\n",
    "        conn = sqlite3.connect(db_file)\n",
    "        print(sqlite3.version)\n",
    "    except Error as e:\n",
    "        print(e)\n",
    "    finally:\n",
    "        conn.close()"
   ]
  },
  {
   "cell_type": "code",
   "execution_count": 4,
   "metadata": {
    "tags": [
     "done"
    ]
   },
   "outputs": [
    {
     "name": "stdout",
     "output_type": "stream",
     "text": [
      "2.6.0\n"
     ]
    }
   ],
   "source": [
    "# If connection succeeds\n",
    "\n",
    "if __name__ == '__main__':\n",
    "    create_connection(\"../NBAfantasyML.sqlite\")"
   ]
  },
  {
   "cell_type": "code",
   "execution_count": 5,
   "metadata": {
    "tags": [
     "done"
    ]
   },
   "outputs": [],
   "source": [
    "#Bring in data from internet as object then convert ot Json\n",
    "\n",
    "schedule_response_obj=requests.get(\"http://data.nba.net/prod/v1/2018/schedule.json\")\n",
    "schedule_response=schedule_response_obj.json()"
   ]
  },
  {
   "cell_type": "code",
   "execution_count": 6,
   "metadata": {
    "tags": [
     "done"
    ]
   },
   "outputs": [],
   "source": [
    "# Count the number of Games for the season \n",
    "\n",
    "games_response_count=schedule_response[\"league\"][\"standard\"]\n",
    "game_number=len(games_response_count)\n",
    "# game_number"
   ]
  },
  {
   "cell_type": "code",
   "execution_count": 7,
   "metadata": {
    "tags": [
     "Start_loop_start_season"
    ]
   },
   "outputs": [
    {
     "data": {
      "text/html": [
       "<div>\n",
       "<style scoped>\n",
       "    .dataframe tbody tr th:only-of-type {\n",
       "        vertical-align: middle;\n",
       "    }\n",
       "\n",
       "    .dataframe tbody tr th {\n",
       "        vertical-align: top;\n",
       "    }\n",
       "\n",
       "    .dataframe thead th {\n",
       "        text-align: right;\n",
       "    }\n",
       "</style>\n",
       "<table border=\"1\" class=\"dataframe\">\n",
       "  <thead>\n",
       "    <tr style=\"text-align: right;\">\n",
       "      <th></th>\n",
       "      <th>gameId</th>\n",
       "      <th>startDataEastern</th>\n",
       "    </tr>\n",
       "  </thead>\n",
       "  <tbody>\n",
       "    <tr>\n",
       "      <th>0</th>\n",
       "      <td>11800001</td>\n",
       "      <td>20180928</td>\n",
       "    </tr>\n",
       "    <tr>\n",
       "      <th>1</th>\n",
       "      <td>11800002</td>\n",
       "      <td>20180928</td>\n",
       "    </tr>\n",
       "    <tr>\n",
       "      <th>2</th>\n",
       "      <td>11800003</td>\n",
       "      <td>20180929</td>\n",
       "    </tr>\n",
       "    <tr>\n",
       "      <th>3</th>\n",
       "      <td>11800004</td>\n",
       "      <td>20180929</td>\n",
       "    </tr>\n",
       "    <tr>\n",
       "      <th>4</th>\n",
       "      <td>11800005</td>\n",
       "      <td>20180929</td>\n",
       "    </tr>\n",
       "  </tbody>\n",
       "</table>\n",
       "</div>"
      ],
      "text/plain": [
       "     gameId  startDataEastern\n",
       "0  11800001          20180928\n",
       "1  11800002          20180928\n",
       "2  11800003          20180929\n",
       "3  11800004          20180929\n",
       "4  11800005          20180929"
      ]
     },
     "execution_count": 7,
     "metadata": {},
     "output_type": "execute_result"
    }
   ],
   "source": [
    "###    Elements for URL, append List, create DataFrame  ###\n",
    "\n",
    "# Bring in Game Id and GameData (\"startDataEastern\") elements from NBA Schedule later used to create box_score URL\n",
    "# Store elements in list\n",
    "# Convert list to DataFrame and modify datatypes\n",
    "\n",
    "# Get elements\n",
    "NBA_Schedule=[]\n",
    "for item in schedule_response[\"league\"][\"standard\"]:\n",
    "    item_dict={}\n",
    "    item_dict[\"gameId\"]=item[\"gameId\"]\n",
    "    item_dict[\"startDateEastern\"]=item[\"startDateEastern\"]\n",
    "\n",
    "# Append List\n",
    "    NBA_Schedule.append({\"gameId\":item_dict[\"gameId\"],\n",
    "                         \"startDataEastern\":item_dict[\"startDateEastern\"]})\n",
    "\n",
    "# Convert NBA_Schedule=[] list to DataFrame and modify Datatypes\n",
    "NBA_Schedule_DF_initial=pd.DataFrame(NBA_Schedule)\n",
    "NBA_Schedule_DF_initial[\"gameId\"]=NBA_Schedule_DF_initial[\"gameId\"].astype(int)\n",
    "NBA_Schedule_DF_initial[\"startDataEastern\"]=NBA_Schedule_DF_initial[\"startDataEastern\"].astype(int)\n",
    "\n",
    "NBA_Schedule_DF_initial.head()  \n",
    "# regular season starts October 16, 2018\n"
   ]
  },
  {
   "cell_type": "code",
   "execution_count": 20,
   "metadata": {
    "tags": [
     "done"
    ]
   },
   "outputs": [
    {
     "data": {
      "text/plain": [
       "1309"
      ]
     },
     "execution_count": 20,
     "metadata": {},
     "output_type": "execute_result"
    }
   ],
   "source": [
    "# count the number of gamesId records\n",
    "\n",
    "game_count=len(NBA_Schedule_DF_initial[\"gameId\"])\n"
   ]
  },
  {
   "cell_type": "code",
   "execution_count": 33,
   "metadata": {
    "tags": [
     "change_loop_to_i"
    ]
   },
   "outputs": [
    {
     "data": {
      "text/html": [
       "<div>\n",
       "<style scoped>\n",
       "    .dataframe tbody tr th:only-of-type {\n",
       "        vertical-align: middle;\n",
       "    }\n",
       "\n",
       "    .dataframe tbody tr th {\n",
       "        vertical-align: top;\n",
       "    }\n",
       "\n",
       "    .dataframe thead th {\n",
       "        text-align: right;\n",
       "    }\n",
       "</style>\n",
       "<table border=\"1\" class=\"dataframe\">\n",
       "  <thead>\n",
       "    <tr style=\"text-align: right;\">\n",
       "      <th></th>\n",
       "      <th>gameId</th>\n",
       "      <th>startDataEastern</th>\n",
       "      <th>boxScoreURL</th>\n",
       "    </tr>\n",
       "  </thead>\n",
       "  <tbody>\n",
       "    <tr>\n",
       "      <th>0</th>\n",
       "      <td>11800001</td>\n",
       "      <td>20180928</td>\n",
       "      <td>http://data.nba.net/prod/v1/20180928/001180000...</td>\n",
       "    </tr>\n",
       "    <tr>\n",
       "      <th>1</th>\n",
       "      <td>11800002</td>\n",
       "      <td>20180928</td>\n",
       "      <td>http://data.nba.net/prod/v1/20180928/001180000...</td>\n",
       "    </tr>\n",
       "    <tr>\n",
       "      <th>2</th>\n",
       "      <td>11800003</td>\n",
       "      <td>20180929</td>\n",
       "      <td>http://data.nba.net/prod/v1/20180928/001180000...</td>\n",
       "    </tr>\n",
       "    <tr>\n",
       "      <th>3</th>\n",
       "      <td>11800004</td>\n",
       "      <td>20180929</td>\n",
       "      <td>http://data.nba.net/prod/v1/20180928/001180000...</td>\n",
       "    </tr>\n",
       "    <tr>\n",
       "      <th>4</th>\n",
       "      <td>11800005</td>\n",
       "      <td>20180929</td>\n",
       "      <td>http://data.nba.net/prod/v1/20180928/001180000...</td>\n",
       "    </tr>\n",
       "  </tbody>\n",
       "</table>\n",
       "</div>"
      ],
      "text/plain": [
       "     gameId  startDataEastern  \\\n",
       "0  11800001          20180928   \n",
       "1  11800002          20180928   \n",
       "2  11800003          20180929   \n",
       "3  11800004          20180929   \n",
       "4  11800005          20180929   \n",
       "\n",
       "                                         boxScoreURL  \n",
       "0  http://data.nba.net/prod/v1/20180928/001180000...  \n",
       "1  http://data.nba.net/prod/v1/20180928/001180000...  \n",
       "2  http://data.nba.net/prod/v1/20180928/001180000...  \n",
       "3  http://data.nba.net/prod/v1/20180928/001180000...  \n",
       "4  http://data.nba.net/prod/v1/20180928/001180000...  "
      ]
     },
     "execution_count": 33,
     "metadata": {},
     "output_type": "execute_result"
    }
   ],
   "source": [
    "# # Generate Box_Score_URL and append to List Box_Score_URL_List\n",
    "\n",
    "Box_score_URL_List =[{}]\n",
    "\n",
    "# Looping through gameids \n",
    "#for i in range (0,game_count):\n",
    "    \n",
    "chosen=0\n",
    "\n",
    "    # Generate Box Score URL using GameId and GameData (\"startDataEastern\")\n",
    "Box_score_URL=F\"http://data.nba.net/prod/v1/{NBA_Schedule_DF_initial['startDataEastern'][chosen]}/00{NBA_Schedule_DF_initial['gameId'][chosen]}_boxscore.json\"\n",
    "\n",
    "NBA_Schedule_DF_initial[\"boxScoreURL\"]=Box_score_URL\n",
    "NBA_Schedule_DF_initial[\"boxScoreURL\"]=NBA_Schedule_DF_initial[\"boxScoreURL\"].astype(str)\n",
    "# NBA_Schedule_DF_initial.head()"
   ]
  },
  {
   "cell_type": "code",
   "execution_count": 11,
   "metadata": {
    "scrolled": false,
    "tags": [
     "Done"
    ]
   },
   "outputs": [],
   "source": [
    "# Box Score Request and request Object \n",
    "\n",
    "NBA_Schedule_DF_initial.boxScoreURL[chosen]\n",
    "box_score_obj=requests.get(Box_score_URL)\n",
    "box_score_response=box_score_obj.json()\n",
    "# box_score_response"
   ]
  },
  {
   "cell_type": "code",
   "execution_count": 31,
   "metadata": {},
   "outputs": [
    {
     "name": "stdout",
     "output_type": "stream",
     "text": [
      "31\n"
     ]
    }
   ],
   "source": [
    "# Extract basic box score data EXCLUDING: INDIVIDUAL PLAYER STATS (two loops, vteam & hteam)\n",
    "Team_boxscores=[]\n",
    "# Vteam\n",
    "gameid=box_score_response[\"basicGameData\"][\"gameId\"]\n",
    "teamId=box_score_response[\"basicGameData\"][\"vTeam\"][\"teamId\"]\n",
    "fastBreakPoints=box_score_response[\"stats\"][\"vTeam\"][\"fastBreakPoints\"]\n",
    "pointsInPaint=box_score_response[\"stats\"][\"vTeam\"][\"pointsInPaint\"]\n",
    "secondChancePoints=box_score_response[\"stats\"][\"vTeam\"][\"secondChancePoints\"]\n",
    "pointsOffTurnovers=box_score_response[\"stats\"][\"vTeam\"][\"pointsOffTurnovers\"]\n",
    "points=box_score_response[\"stats\"][\"vTeam\"][\"totals\"][\"points\"]\n",
    "fgm=box_score_response[\"stats\"][\"vTeam\"][\"totals\"][\"fgm\"]\n",
    "fga=box_score_response[\"stats\"][\"vTeam\"][\"totals\"][\"fga\"]\n",
    "fgp=box_score_response[\"stats\"][\"vTeam\"][\"totals\"][\"fgp\"]\n",
    "ftm=box_score_response[\"stats\"][\"vTeam\"][\"totals\"][\"ftm\"]\n",
    "fta=box_score_response[\"stats\"][\"vTeam\"][\"totals\"][\"fta\"]\n",
    "ftp=box_score_response[\"stats\"][\"vTeam\"][\"totals\"][\"ftp\"]\n",
    "ttm=box_score_response[\"stats\"][\"vTeam\"][\"totals\"][\"ttm\"]\n",
    "tta=box_score_response[\"stats\"][\"vTeam\"][\"totals\"][\"tta\"]\n",
    "ttp=box_score_response[\"stats\"][\"vTeam\"][\"totals\"][\"ttp\"]\n",
    "offReb=box_score_response[\"stats\"][\"vTeam\"][\"totals\"][\"offReb\"]\n",
    "defReb=box_score_response[\"stats\"][\"vTeam\"][\"totals\"][\"defReb\"]\n",
    "totReb=box_score_response[\"stats\"][\"vTeam\"][\"totals\"][\"totReb\"]\n",
    "assists=box_score_response[\"stats\"][\"vTeam\"][\"totals\"][\"assists\"]\n",
    "pFouls=box_score_response[\"stats\"][\"vTeam\"][\"totals\"][\"pFouls\"]\n",
    "steals=box_score_response[\"stats\"][\"vTeam\"][\"totals\"][\"steals\"]\n",
    "turnovers=box_score_response[\"stats\"][\"vTeam\"][\"totals\"][\"turnovers\"]\n",
    "blocks=box_score_response[\"stats\"][\"vTeam\"][\"totals\"][\"blocks\"]\n",
    "plusMinus=box_score_response[\"stats\"][\"vTeam\"][\"totals\"][\"plusMinus\"]\n",
    "min=box_score_response[\"stats\"][\"vTeam\"][\"totals\"][\"min\"]\n",
    "# for non_player_stats in box_score_response[\"basicGameData\"]\n"
   ]
  },
  {
   "cell_type": "code",
   "execution_count": null,
   "metadata": {},
   "outputs": [],
   "source": [
    "# Hteam\n",
    "home_team=box_score_response[\"basicGameData\"][\"hTeam\"][\"teamId\"]"
   ]
  },
  {
   "cell_type": "code",
   "execution_count": 37,
   "metadata": {},
   "outputs": [],
   "source": [
    "# Extract ONLY player stats from box score\n",
    "boxscore_player_list=[]\n",
    "for boxscore_playerstats in box_score_response[\"stats\"][\"activePlayers\"]:\n",
    "    boxscore_player_dict={}\n",
    "    boxscore_player_dict[\"personId\"]=boxscore_playerstats[\"personId\"]\n",
    "    boxscore_player_dict[\"teamId\"]=boxscore_playerstats[\"teamId\"]\n",
    "    boxscore_player_dict[\"points\"]=boxscore_playerstats[\"points\"]\n",
    "    boxscore_player_dict[\"pos\"]=boxscore_playerstats[\"pos\"]\n",
    "    boxscore_player_dict[\"min\"]=boxscore_playerstats[\"min\"]\n",
    "    boxscore_player_dict[\"points\"]=boxscore_playerstats[\"points\"]\n",
    "    boxscore_player_dict[\"fgm\"]=boxscore_playerstats[\"fgm\"]\n",
    "    boxscore_player_dict[\"min\"]=boxscore_playerstats[\"min\"]\n",
    "    boxscore_player_dict[\"points\"]=boxscore_playerstats[\"points\"]\n",
    "    boxscore_player_dict[\"fgm\"]=boxscore_playerstats[\"fgm\"]\n",
    "    boxscore_player_dict[\"fga\"]=boxscore_playerstats[\"fga\"]\n",
    "    boxscore_player_dict[\"fgp\"]=boxscore_playerstats[\"fgp\"]\n",
    "    boxscore_player_dict[\"ftm\"]=boxscore_playerstats[\"ftm\"]\n",
    "    boxscore_player_dict[\"fta\"]=boxscore_playerstats[\"fta\"]\n",
    "    boxscore_player_dict[\"ftp\"]=boxscore_playerstats[\"ftp\"]\n",
    "    boxscore_player_dict[\"tpm\"]=boxscore_playerstats[\"tpm\"]\n",
    "    boxscore_player_dict[\"tpa\"]=boxscore_playerstats[\"tpa\"]\n",
    "    boxscore_player_dict[\"tpp\"]=boxscore_playerstats[\"tpp\"]\n",
    "    boxscore_player_dict[\"offReb\"]=boxscore_playerstats[\"offReb\"]\n",
    "    boxscore_player_dict[\"defReb\"]=boxscore_playerstats[\"defReb\"]\n",
    "    boxscore_player_dict[\"totReb\"]=boxscore_playerstats[\"totReb\"]\n",
    "    boxscore_player_dict[\"assists\"]=boxscore_playerstats[\"assists\"]\n",
    "    boxscore_player_dict[\"pFouls\"]=boxscore_playerstats[\"pFouls\"]\n",
    "    boxscore_player_dict[\"steals\"]=boxscore_playerstats[\"steals\"]\n",
    "    boxscore_player_dict[\"turnovers\"]=boxscore_playerstats[\"totReb\"]\n",
    "    boxscore_player_dict[\"blocks\"]=boxscore_playerstats[\"blocks\"]\n",
    "    boxscore_player_dict[\"plusMinus\"]=boxscore_playerstats[\"plusMinus\"]\n",
    "    boxscore_player_dict[\"dnp\"]=boxscore_playerstats[\"dnp\"]\n",
    "    \n",
    "    boxscore_player_list.append({\"personId\":boxscore_playerstats[\"personId\"],\n",
    "                                \"teamId\":boxscore_playerstats[\"teamId\"],\n",
    "                                \"points\":boxscore_playerstats[\"points\"],\n",
    "                                \"pos\":boxscore_playerstats[\"pos\"],\n",
    "                                \"min\":boxscore_playerstats[\"min\"],\n",
    "                                \"points\":boxscore_playerstats[\"points\"],\n",
    "                                \"fgm\":boxscore_playerstats[\"fgm\"],\n",
    "                                \"min\":boxscore_playerstats[\"min\"],\n",
    "                                \"points\":boxscore_playerstats[\"points\"],\n",
    "                                \"fgm\":boxscore_playerstats[\"fgm\"],\n",
    "                                \"fga\":boxscore_playerstats[\"fga\"],\n",
    "                                \"fgp\":boxscore_playerstats[\"fgp\"],\n",
    "                                \"ftm\":boxscore_playerstats[\"ftm\"],\n",
    "                                \"fta\":boxscore_playerstats[\"fta\"],\n",
    "                                \"ftp\":boxscore_playerstats[\"ftp\"],\n",
    "                                \"tpm\":boxscore_playerstats[\"tpm\"],\n",
    "                                \"tpa\":boxscore_playerstats[\"tpa\"],\n",
    "                                \"tpp\":boxscore_playerstats[\"tpp\"],\n",
    "                                \"offReb\":boxscore_playerstats[\"offReb\"],\n",
    "                                \"defReb\":boxscore_playerstats[\"defReb\"],\n",
    "                                \"totReb\":boxscore_playerstats[\"totReb\"],\n",
    "                                \"assists\":boxscore_playerstats[\"assists\"],\n",
    "                                \"pFouls\":boxscore_playerstats[\"pFouls\"],\n",
    "                                \"steals\":boxscore_playerstats[\"steals\"],\n",
    "                                \"turnovers\":boxscore_playerstats[\"totReb\"],\n",
    "                                \"blocks\":boxscore_playerstats[\"blocks\"],\n",
    "                                \"plusMinus\":boxscore_playerstats[\"plusMinus\"],\n",
    "                                \"dnp\":boxscore_playerstats[\"dnp\"]})\n",
    "    \n",
    "\n",
    "    "
   ]
  },
  {
   "cell_type": "code",
   "execution_count": 39,
   "metadata": {},
   "outputs": [
    {
     "data": {
      "text/plain": [
       "assists      object\n",
       "blocks       object\n",
       "defReb       object\n",
       "dnp          object\n",
       "fga          object\n",
       "fgm          object\n",
       "fgp          object\n",
       "fta          object\n",
       "ftm          object\n",
       "ftp          object\n",
       "min          object\n",
       "offReb       object\n",
       "pFouls       object\n",
       "personId     object\n",
       "plusMinus    object\n",
       "points       object\n",
       "pos          object\n",
       "steals       object\n",
       "teamId       object\n",
       "totReb       object\n",
       "tpa          object\n",
       "tpm          object\n",
       "tpp          object\n",
       "turnovers    object\n",
       "dtype: object"
      ]
     },
     "execution_count": 39,
     "metadata": {},
     "output_type": "execute_result"
    }
   ],
   "source": [
    "boxscore_player_df=pd.DataFrame(boxscore_player_list)\n",
    "boxscore_player_df.dtypes"
   ]
  },
  {
   "cell_type": "code",
   "execution_count": null,
   "metadata": {},
   "outputs": [],
   "source": []
  },
  {
   "cell_type": "code",
   "execution_count": 16,
   "metadata": {
    "scrolled": true
   },
   "outputs": [],
   "source": [
    "#Load NBA_TEAMS table\n",
    "# NBA_Schedule_DF_GameId.to_sql('NBA_SCHEDULE_GAME_DATE',conn, if_exists='replace', index=False)"
   ]
  }
 ],
 "metadata": {
  "celltoolbar": "Tags",
  "kernelspec": {
   "display_name": "Python 3",
   "language": "python",
   "name": "python3"
  },
  "language_info": {
   "codemirror_mode": {
    "name": "ipython",
    "version": 3
   },
   "file_extension": ".py",
   "mimetype": "text/x-python",
   "name": "python",
   "nbconvert_exporter": "python",
   "pygments_lexer": "ipython3",
   "version": "3.6.5"
  }
 },
 "nbformat": 4,
 "nbformat_minor": 2
}
